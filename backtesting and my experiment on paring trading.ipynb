{
 "cells": [
  {
   "cell_type": "code",
   "execution_count": 1,
   "metadata": {},
   "outputs": [],
   "source": [
    "import pandas_datareader as pdr"
   ]
  },
  {
   "cell_type": "code",
   "execution_count": 2,
   "metadata": {},
   "outputs": [],
   "source": [
    "from datetime import datetime"
   ]
  },
  {
   "cell_type": "markdown",
   "metadata": {},
   "source": [
    "# There is a python library called pandas_datareader. We can get finance data using functions in this lib easily."
   ]
  },
  {
   "cell_type": "code",
   "execution_count": 3,
   "metadata": {},
   "outputs": [],
   "source": [
    "symbol = 'AAPL'\n",
    "start= datetime(2018,3,7)\n",
    "end = datetime.now()"
   ]
  },
  {
   "cell_type": "code",
   "execution_count": 4,
   "metadata": {},
   "outputs": [],
   "source": [
    "AAPL = pdr.get_data_yahoo(symbol,start,end)"
   ]
  },
  {
   "cell_type": "code",
   "execution_count": 5,
   "metadata": {},
   "outputs": [
    {
     "data": {
      "text/html": [
       "<div>\n",
       "<style scoped>\n",
       "    .dataframe tbody tr th:only-of-type {\n",
       "        vertical-align: middle;\n",
       "    }\n",
       "\n",
       "    .dataframe tbody tr th {\n",
       "        vertical-align: top;\n",
       "    }\n",
       "\n",
       "    .dataframe thead th {\n",
       "        text-align: right;\n",
       "    }\n",
       "</style>\n",
       "<table border=\"1\" class=\"dataframe\">\n",
       "  <thead>\n",
       "    <tr style=\"text-align: right;\">\n",
       "      <th></th>\n",
       "      <th>High</th>\n",
       "      <th>Low</th>\n",
       "      <th>Open</th>\n",
       "      <th>Close</th>\n",
       "      <th>Volume</th>\n",
       "      <th>Adj Close</th>\n",
       "    </tr>\n",
       "    <tr>\n",
       "      <th>Date</th>\n",
       "      <th></th>\n",
       "      <th></th>\n",
       "      <th></th>\n",
       "      <th></th>\n",
       "      <th></th>\n",
       "      <th></th>\n",
       "    </tr>\n",
       "  </thead>\n",
       "  <tbody>\n",
       "    <tr>\n",
       "      <th>2018-03-06</th>\n",
       "      <td>178.250000</td>\n",
       "      <td>176.130005</td>\n",
       "      <td>177.910004</td>\n",
       "      <td>176.669998</td>\n",
       "      <td>23788500.0</td>\n",
       "      <td>174.020172</td>\n",
       "    </tr>\n",
       "    <tr>\n",
       "      <th>2018-03-07</th>\n",
       "      <td>175.850006</td>\n",
       "      <td>174.270004</td>\n",
       "      <td>174.940002</td>\n",
       "      <td>175.029999</td>\n",
       "      <td>31703500.0</td>\n",
       "      <td>172.404770</td>\n",
       "    </tr>\n",
       "    <tr>\n",
       "      <th>2018-03-08</th>\n",
       "      <td>177.119995</td>\n",
       "      <td>175.070007</td>\n",
       "      <td>175.479996</td>\n",
       "      <td>176.940002</td>\n",
       "      <td>23774100.0</td>\n",
       "      <td>174.286118</td>\n",
       "    </tr>\n",
       "    <tr>\n",
       "      <th>2018-03-09</th>\n",
       "      <td>180.000000</td>\n",
       "      <td>177.389999</td>\n",
       "      <td>177.960007</td>\n",
       "      <td>179.979996</td>\n",
       "      <td>32185200.0</td>\n",
       "      <td>177.280518</td>\n",
       "    </tr>\n",
       "    <tr>\n",
       "      <th>2018-03-12</th>\n",
       "      <td>182.389999</td>\n",
       "      <td>180.210007</td>\n",
       "      <td>180.289993</td>\n",
       "      <td>181.720001</td>\n",
       "      <td>32207100.0</td>\n",
       "      <td>178.994415</td>\n",
       "    </tr>\n",
       "  </tbody>\n",
       "</table>\n",
       "</div>"
      ],
      "text/plain": [
       "                  High         Low        Open       Close      Volume  \\\n",
       "Date                                                                     \n",
       "2018-03-06  178.250000  176.130005  177.910004  176.669998  23788500.0   \n",
       "2018-03-07  175.850006  174.270004  174.940002  175.029999  31703500.0   \n",
       "2018-03-08  177.119995  175.070007  175.479996  176.940002  23774100.0   \n",
       "2018-03-09  180.000000  177.389999  177.960007  179.979996  32185200.0   \n",
       "2018-03-12  182.389999  180.210007  180.289993  181.720001  32207100.0   \n",
       "\n",
       "             Adj Close  \n",
       "Date                    \n",
       "2018-03-06  174.020172  \n",
       "2018-03-07  172.404770  \n",
       "2018-03-08  174.286118  \n",
       "2018-03-09  177.280518  \n",
       "2018-03-12  178.994415  "
      ]
     },
     "execution_count": 5,
     "metadata": {},
     "output_type": "execute_result"
    }
   ],
   "source": [
    "AAPL.head()"
   ]
  },
  {
   "cell_type": "code",
   "execution_count": 6,
   "metadata": {},
   "outputs": [
    {
     "data": {
      "text/html": [
       "<div>\n",
       "<style scoped>\n",
       "    .dataframe tbody tr th:only-of-type {\n",
       "        vertical-align: middle;\n",
       "    }\n",
       "\n",
       "    .dataframe tbody tr th {\n",
       "        vertical-align: top;\n",
       "    }\n",
       "\n",
       "    .dataframe thead th {\n",
       "        text-align: right;\n",
       "    }\n",
       "</style>\n",
       "<table border=\"1\" class=\"dataframe\">\n",
       "  <thead>\n",
       "    <tr style=\"text-align: right;\">\n",
       "      <th></th>\n",
       "      <th>High</th>\n",
       "      <th>Low</th>\n",
       "      <th>Open</th>\n",
       "      <th>Close</th>\n",
       "      <th>Volume</th>\n",
       "      <th>Adj Close</th>\n",
       "    </tr>\n",
       "    <tr>\n",
       "      <th>Date</th>\n",
       "      <th></th>\n",
       "      <th></th>\n",
       "      <th></th>\n",
       "      <th></th>\n",
       "      <th></th>\n",
       "      <th></th>\n",
       "    </tr>\n",
       "  </thead>\n",
       "  <tbody>\n",
       "    <tr>\n",
       "      <th>2019-03-07</th>\n",
       "      <td>174.440002</td>\n",
       "      <td>172.020004</td>\n",
       "      <td>173.869995</td>\n",
       "      <td>172.500000</td>\n",
       "      <td>24760900.0</td>\n",
       "      <td>172.500000</td>\n",
       "    </tr>\n",
       "    <tr>\n",
       "      <th>2019-03-06</th>\n",
       "      <td>175.490005</td>\n",
       "      <td>173.940002</td>\n",
       "      <td>174.669998</td>\n",
       "      <td>174.520004</td>\n",
       "      <td>20810400.0</td>\n",
       "      <td>174.520004</td>\n",
       "    </tr>\n",
       "    <tr>\n",
       "      <th>2019-03-05</th>\n",
       "      <td>176.000000</td>\n",
       "      <td>174.539993</td>\n",
       "      <td>175.940002</td>\n",
       "      <td>175.529999</td>\n",
       "      <td>19737400.0</td>\n",
       "      <td>175.529999</td>\n",
       "    </tr>\n",
       "    <tr>\n",
       "      <th>2019-03-04</th>\n",
       "      <td>177.750000</td>\n",
       "      <td>173.970001</td>\n",
       "      <td>175.690002</td>\n",
       "      <td>175.850006</td>\n",
       "      <td>27436200.0</td>\n",
       "      <td>175.850006</td>\n",
       "    </tr>\n",
       "    <tr>\n",
       "      <th>2019-03-01</th>\n",
       "      <td>175.149994</td>\n",
       "      <td>172.889999</td>\n",
       "      <td>174.279999</td>\n",
       "      <td>174.970001</td>\n",
       "      <td>25886200.0</td>\n",
       "      <td>174.970001</td>\n",
       "    </tr>\n",
       "  </tbody>\n",
       "</table>\n",
       "</div>"
      ],
      "text/plain": [
       "                  High         Low        Open       Close      Volume  \\\n",
       "Date                                                                     \n",
       "2019-03-07  174.440002  172.020004  173.869995  172.500000  24760900.0   \n",
       "2019-03-06  175.490005  173.940002  174.669998  174.520004  20810400.0   \n",
       "2019-03-05  176.000000  174.539993  175.940002  175.529999  19737400.0   \n",
       "2019-03-04  177.750000  173.970001  175.690002  175.850006  27436200.0   \n",
       "2019-03-01  175.149994  172.889999  174.279999  174.970001  25886200.0   \n",
       "\n",
       "             Adj Close  \n",
       "Date                    \n",
       "2019-03-07  172.500000  \n",
       "2019-03-06  174.520004  \n",
       "2019-03-05  175.529999  \n",
       "2019-03-04  175.850006  \n",
       "2019-03-01  174.970001  "
      ]
     },
     "execution_count": 6,
     "metadata": {},
     "output_type": "execute_result"
    }
   ],
   "source": [
    "AAPL = AAPL.iloc[len(AAPL)-1::-1]\n",
    "AAPL.head()"
   ]
  },
  {
   "cell_type": "code",
   "execution_count": 7,
   "metadata": {},
   "outputs": [
    {
     "name": "stdout",
     "output_type": "stream",
     "text": [
      "Help on function get_data_yahoo in module pandas_datareader.data:\n",
      "\n",
      "get_data_yahoo(*args, **kwargs)\n",
      "\n"
     ]
    }
   ],
   "source": [
    "help(pdr.get_data_yahoo)"
   ]
  },
  {
   "cell_type": "code",
   "execution_count": 8,
   "metadata": {},
   "outputs": [
    {
     "data": {
      "text/plain": [
       "0.997214377406932"
      ]
     },
     "execution_count": 8,
     "metadata": {},
     "output_type": "execute_result"
    }
   ],
   "source": [
    "(77.9-0.217)/77.9"
   ]
  },
  {
   "cell_type": "markdown",
   "metadata": {},
   "source": [
    "# Example 3.4: Calculating Sharpe Ratio for Long-Only Versus Market-Neutral Strategies"
   ]
  },
  {
   "cell_type": "markdown",
   "metadata": {},
   "source": [
    "* long-only strategy\n",
    "* annualized risk free rate is 4%\n",
    "* buy at the closing time of Nov 26,2001 and sell at Nov 14,2007"
   ]
  },
  {
   "cell_type": "code",
   "execution_count": 9,
   "metadata": {},
   "outputs": [
    {
     "data": {
      "text/html": [
       "<div>\n",
       "<style scoped>\n",
       "    .dataframe tbody tr th:only-of-type {\n",
       "        vertical-align: middle;\n",
       "    }\n",
       "\n",
       "    .dataframe tbody tr th {\n",
       "        vertical-align: top;\n",
       "    }\n",
       "\n",
       "    .dataframe thead th {\n",
       "        text-align: right;\n",
       "    }\n",
       "</style>\n",
       "<table border=\"1\" class=\"dataframe\">\n",
       "  <thead>\n",
       "    <tr style=\"text-align: right;\">\n",
       "      <th></th>\n",
       "      <th>High</th>\n",
       "      <th>Low</th>\n",
       "      <th>Open</th>\n",
       "      <th>Close</th>\n",
       "      <th>Volume</th>\n",
       "      <th>Adj Close</th>\n",
       "    </tr>\n",
       "    <tr>\n",
       "      <th>Date</th>\n",
       "      <th></th>\n",
       "      <th></th>\n",
       "      <th></th>\n",
       "      <th></th>\n",
       "      <th></th>\n",
       "      <th></th>\n",
       "    </tr>\n",
       "  </thead>\n",
       "  <tbody>\n",
       "    <tr>\n",
       "      <th>2001-11-26</th>\n",
       "      <td>15.16833</td>\n",
       "      <td>15.16833</td>\n",
       "      <td>15.16833</td>\n",
       "      <td>15.16833</td>\n",
       "      <td>0.0</td>\n",
       "      <td>11.689160</td>\n",
       "    </tr>\n",
       "    <tr>\n",
       "      <th>2001-11-27</th>\n",
       "      <td>15.16833</td>\n",
       "      <td>15.16833</td>\n",
       "      <td>15.16833</td>\n",
       "      <td>15.16833</td>\n",
       "      <td>0.0</td>\n",
       "      <td>11.689160</td>\n",
       "    </tr>\n",
       "    <tr>\n",
       "      <th>2001-11-28</th>\n",
       "      <td>15.16833</td>\n",
       "      <td>15.16833</td>\n",
       "      <td>15.16833</td>\n",
       "      <td>15.16833</td>\n",
       "      <td>0.0</td>\n",
       "      <td>11.689160</td>\n",
       "    </tr>\n",
       "    <tr>\n",
       "      <th>2001-11-29</th>\n",
       "      <td>15.16833</td>\n",
       "      <td>15.16833</td>\n",
       "      <td>15.16833</td>\n",
       "      <td>15.16833</td>\n",
       "      <td>0.0</td>\n",
       "      <td>11.689160</td>\n",
       "    </tr>\n",
       "    <tr>\n",
       "      <th>2001-11-30</th>\n",
       "      <td>15.22000</td>\n",
       "      <td>15.22000</td>\n",
       "      <td>15.22000</td>\n",
       "      <td>15.22000</td>\n",
       "      <td>600.0</td>\n",
       "      <td>11.728977</td>\n",
       "    </tr>\n",
       "  </tbody>\n",
       "</table>\n",
       "</div>"
      ],
      "text/plain": [
       "                High       Low      Open     Close  Volume  Adj Close\n",
       "Date                                                                 \n",
       "2001-11-26  15.16833  15.16833  15.16833  15.16833     0.0  11.689160\n",
       "2001-11-27  15.16833  15.16833  15.16833  15.16833     0.0  11.689160\n",
       "2001-11-28  15.16833  15.16833  15.16833  15.16833     0.0  11.689160\n",
       "2001-11-29  15.16833  15.16833  15.16833  15.16833     0.0  11.689160\n",
       "2001-11-30  15.22000  15.22000  15.22000  15.22000   600.0  11.728977"
      ]
     },
     "execution_count": 9,
     "metadata": {},
     "output_type": "execute_result"
    }
   ],
   "source": [
    "symbol = 'IGE'\n",
    "start = datetime(2001,11,26)\n",
    "end = datetime(2007,11,14)\n",
    "IGE = pdr.get_data_yahoo(symbol,start,end)\n",
    "IGE.head()"
   ]
  },
  {
   "cell_type": "code",
   "execution_count": 10,
   "metadata": {},
   "outputs": [],
   "source": [
    "daily_r = (IGE['Adj Close']-IGE['Adj Close'].shift(1))/IGE['Adj Close'].shift(1)"
   ]
  },
  {
   "cell_type": "code",
   "execution_count": 11,
   "metadata": {},
   "outputs": [
    {
     "data": {
      "text/plain": [
       "Date\n",
       "2001-11-26         NaN\n",
       "2001-11-27    0.000000\n",
       "2001-11-28    0.000000\n",
       "2001-11-29    0.000000\n",
       "2001-11-30    0.003406\n",
       "Name: Adj Close, dtype: float64"
      ]
     },
     "execution_count": 11,
     "metadata": {},
     "output_type": "execute_result"
    }
   ],
   "source": [
    "daily_r[:5]"
   ]
  },
  {
   "cell_type": "code",
   "execution_count": 12,
   "metadata": {},
   "outputs": [],
   "source": [
    "IGE['daily return']= daily_r\n",
    "IGE = IGE.iloc[1:,]"
   ]
  },
  {
   "cell_type": "code",
   "execution_count": 13,
   "metadata": {},
   "outputs": [
    {
     "data": {
      "text/html": [
       "<div>\n",
       "<style scoped>\n",
       "    .dataframe tbody tr th:only-of-type {\n",
       "        vertical-align: middle;\n",
       "    }\n",
       "\n",
       "    .dataframe tbody tr th {\n",
       "        vertical-align: top;\n",
       "    }\n",
       "\n",
       "    .dataframe thead th {\n",
       "        text-align: right;\n",
       "    }\n",
       "</style>\n",
       "<table border=\"1\" class=\"dataframe\">\n",
       "  <thead>\n",
       "    <tr style=\"text-align: right;\">\n",
       "      <th></th>\n",
       "      <th>High</th>\n",
       "      <th>Low</th>\n",
       "      <th>Open</th>\n",
       "      <th>Close</th>\n",
       "      <th>Volume</th>\n",
       "      <th>Adj Close</th>\n",
       "      <th>daily return</th>\n",
       "    </tr>\n",
       "    <tr>\n",
       "      <th>Date</th>\n",
       "      <th></th>\n",
       "      <th></th>\n",
       "      <th></th>\n",
       "      <th></th>\n",
       "      <th></th>\n",
       "      <th></th>\n",
       "      <th></th>\n",
       "    </tr>\n",
       "  </thead>\n",
       "  <tbody>\n",
       "    <tr>\n",
       "      <th>2001-11-27</th>\n",
       "      <td>15.16833</td>\n",
       "      <td>15.16833</td>\n",
       "      <td>15.16833</td>\n",
       "      <td>15.16833</td>\n",
       "      <td>0.0</td>\n",
       "      <td>11.689160</td>\n",
       "      <td>0.000000</td>\n",
       "    </tr>\n",
       "    <tr>\n",
       "      <th>2001-11-28</th>\n",
       "      <td>15.16833</td>\n",
       "      <td>15.16833</td>\n",
       "      <td>15.16833</td>\n",
       "      <td>15.16833</td>\n",
       "      <td>0.0</td>\n",
       "      <td>11.689160</td>\n",
       "      <td>0.000000</td>\n",
       "    </tr>\n",
       "    <tr>\n",
       "      <th>2001-11-29</th>\n",
       "      <td>15.16833</td>\n",
       "      <td>15.16833</td>\n",
       "      <td>15.16833</td>\n",
       "      <td>15.16833</td>\n",
       "      <td>0.0</td>\n",
       "      <td>11.689160</td>\n",
       "      <td>0.000000</td>\n",
       "    </tr>\n",
       "    <tr>\n",
       "      <th>2001-11-30</th>\n",
       "      <td>15.22000</td>\n",
       "      <td>15.22000</td>\n",
       "      <td>15.22000</td>\n",
       "      <td>15.22000</td>\n",
       "      <td>600.0</td>\n",
       "      <td>11.728977</td>\n",
       "      <td>0.003406</td>\n",
       "    </tr>\n",
       "    <tr>\n",
       "      <th>2001-12-03</th>\n",
       "      <td>15.22000</td>\n",
       "      <td>15.22000</td>\n",
       "      <td>15.22000</td>\n",
       "      <td>15.22000</td>\n",
       "      <td>0.0</td>\n",
       "      <td>11.728977</td>\n",
       "      <td>0.000000</td>\n",
       "    </tr>\n",
       "  </tbody>\n",
       "</table>\n",
       "</div>"
      ],
      "text/plain": [
       "                High       Low      Open     Close  Volume  Adj Close  \\\n",
       "Date                                                                    \n",
       "2001-11-27  15.16833  15.16833  15.16833  15.16833     0.0  11.689160   \n",
       "2001-11-28  15.16833  15.16833  15.16833  15.16833     0.0  11.689160   \n",
       "2001-11-29  15.16833  15.16833  15.16833  15.16833     0.0  11.689160   \n",
       "2001-11-30  15.22000  15.22000  15.22000  15.22000   600.0  11.728977   \n",
       "2001-12-03  15.22000  15.22000  15.22000  15.22000     0.0  11.728977   \n",
       "\n",
       "            daily return  \n",
       "Date                      \n",
       "2001-11-27      0.000000  \n",
       "2001-11-28      0.000000  \n",
       "2001-11-29      0.000000  \n",
       "2001-11-30      0.003406  \n",
       "2001-12-03      0.000000  "
      ]
     },
     "execution_count": 13,
     "metadata": {},
     "output_type": "execute_result"
    }
   ],
   "source": [
    "IGE.head()"
   ]
  },
  {
   "cell_type": "code",
   "execution_count": 14,
   "metadata": {},
   "outputs": [],
   "source": [
    "import numpy as np"
   ]
  },
  {
   "cell_type": "code",
   "execution_count": 15,
   "metadata": {},
   "outputs": [
    {
     "data": {
      "text/plain": [
       "0.7886055241885757"
      ]
     },
     "execution_count": 15,
     "metadata": {},
     "output_type": "execute_result"
    }
   ],
   "source": [
    "sharpe_ratio = (IGE['daily return'].mean()- 0.04/252)/IGE['daily return'].std()* np.sqrt(252)\n",
    "sharpe_ratio"
   ]
  },
  {
   "cell_type": "markdown",
   "metadata": {},
   "source": [
    "Now let’s calculate the Sharpe ratio of a long-short market-neutral strategy. In fact, it is a very trivial twist of the buy-and-hold \n",
    "strategy above: at the time we bought IGE, let’s suppose we just shorted an equal dollar amount of Standard & Poor’s depositary \n",
    "receipts (SPY) as a hedge, and closed both positions at the same time in November 2007"
   ]
  },
  {
   "cell_type": "code",
   "execution_count": 16,
   "metadata": {},
   "outputs": [],
   "source": [
    "symbo = 'SPY'\n",
    "spy = pdr.get_data_yahoo(symbo,start,end)"
   ]
  },
  {
   "cell_type": "code",
   "execution_count": 17,
   "metadata": {},
   "outputs": [
    {
     "data": {
      "text/html": [
       "<div>\n",
       "<style scoped>\n",
       "    .dataframe tbody tr th:only-of-type {\n",
       "        vertical-align: middle;\n",
       "    }\n",
       "\n",
       "    .dataframe tbody tr th {\n",
       "        vertical-align: top;\n",
       "    }\n",
       "\n",
       "    .dataframe thead th {\n",
       "        text-align: right;\n",
       "    }\n",
       "</style>\n",
       "<table border=\"1\" class=\"dataframe\">\n",
       "  <thead>\n",
       "    <tr style=\"text-align: right;\">\n",
       "      <th></th>\n",
       "      <th>High</th>\n",
       "      <th>Low</th>\n",
       "      <th>Open</th>\n",
       "      <th>Close</th>\n",
       "      <th>Volume</th>\n",
       "      <th>Adj Close</th>\n",
       "    </tr>\n",
       "    <tr>\n",
       "      <th>Date</th>\n",
       "      <th></th>\n",
       "      <th></th>\n",
       "      <th></th>\n",
       "      <th></th>\n",
       "      <th></th>\n",
       "      <th></th>\n",
       "    </tr>\n",
       "  </thead>\n",
       "  <tbody>\n",
       "    <tr>\n",
       "      <th>2001-11-26</th>\n",
       "      <td>116.339996</td>\n",
       "      <td>115.070000</td>\n",
       "      <td>115.750000</td>\n",
       "      <td>115.930000</td>\n",
       "      <td>13726000.0</td>\n",
       "      <td>82.822075</td>\n",
       "    </tr>\n",
       "    <tr>\n",
       "      <th>2001-11-27</th>\n",
       "      <td>116.900002</td>\n",
       "      <td>114.089996</td>\n",
       "      <td>115.620003</td>\n",
       "      <td>115.430000</td>\n",
       "      <td>19261400.0</td>\n",
       "      <td>82.464890</td>\n",
       "    </tr>\n",
       "    <tr>\n",
       "      <th>2001-11-28</th>\n",
       "      <td>115.169998</td>\n",
       "      <td>113.250000</td>\n",
       "      <td>114.739998</td>\n",
       "      <td>113.339996</td>\n",
       "      <td>20195500.0</td>\n",
       "      <td>80.971771</td>\n",
       "    </tr>\n",
       "    <tr>\n",
       "      <th>2001-11-29</th>\n",
       "      <td>114.919998</td>\n",
       "      <td>113.000000</td>\n",
       "      <td>113.660004</td>\n",
       "      <td>114.870003</td>\n",
       "      <td>16354700.0</td>\n",
       "      <td>82.064789</td>\n",
       "    </tr>\n",
       "    <tr>\n",
       "      <th>2001-11-30</th>\n",
       "      <td>114.910004</td>\n",
       "      <td>114.019997</td>\n",
       "      <td>114.400002</td>\n",
       "      <td>114.050003</td>\n",
       "      <td>13680300.0</td>\n",
       "      <td>81.478951</td>\n",
       "    </tr>\n",
       "  </tbody>\n",
       "</table>\n",
       "</div>"
      ],
      "text/plain": [
       "                  High         Low        Open       Close      Volume  \\\n",
       "Date                                                                     \n",
       "2001-11-26  116.339996  115.070000  115.750000  115.930000  13726000.0   \n",
       "2001-11-27  116.900002  114.089996  115.620003  115.430000  19261400.0   \n",
       "2001-11-28  115.169998  113.250000  114.739998  113.339996  20195500.0   \n",
       "2001-11-29  114.919998  113.000000  113.660004  114.870003  16354700.0   \n",
       "2001-11-30  114.910004  114.019997  114.400002  114.050003  13680300.0   \n",
       "\n",
       "            Adj Close  \n",
       "Date                   \n",
       "2001-11-26  82.822075  \n",
       "2001-11-27  82.464890  \n",
       "2001-11-28  80.971771  \n",
       "2001-11-29  82.064789  \n",
       "2001-11-30  81.478951  "
      ]
     },
     "execution_count": 17,
     "metadata": {},
     "output_type": "execute_result"
    }
   ],
   "source": [
    "spy.head()"
   ]
  },
  {
   "cell_type": "code",
   "execution_count": 18,
   "metadata": {},
   "outputs": [
    {
     "data": {
      "text/plain": [
       "False"
      ]
     },
     "execution_count": 18,
     "metadata": {},
     "output_type": "execute_result"
    }
   ],
   "source": [
    "(len(spy) == len(IGE)) # remember that we deleted one row from IGE"
   ]
  },
  {
   "cell_type": "code",
   "execution_count": 19,
   "metadata": {},
   "outputs": [
    {
     "data": {
      "text/plain": [
       "True"
      ]
     },
     "execution_count": 19,
     "metadata": {},
     "output_type": "execute_result"
    }
   ],
   "source": [
    "len(spy)- len(IGE) == 1"
   ]
  },
  {
   "cell_type": "code",
   "execution_count": 20,
   "metadata": {},
   "outputs": [
    {
     "data": {
      "text/html": [
       "<div>\n",
       "<style scoped>\n",
       "    .dataframe tbody tr th:only-of-type {\n",
       "        vertical-align: middle;\n",
       "    }\n",
       "\n",
       "    .dataframe tbody tr th {\n",
       "        vertical-align: top;\n",
       "    }\n",
       "\n",
       "    .dataframe thead th {\n",
       "        text-align: right;\n",
       "    }\n",
       "</style>\n",
       "<table border=\"1\" class=\"dataframe\">\n",
       "  <thead>\n",
       "    <tr style=\"text-align: right;\">\n",
       "      <th></th>\n",
       "      <th>High</th>\n",
       "      <th>Low</th>\n",
       "      <th>Open</th>\n",
       "      <th>Close</th>\n",
       "      <th>Volume</th>\n",
       "      <th>Adj Close</th>\n",
       "      <th>daily return</th>\n",
       "    </tr>\n",
       "    <tr>\n",
       "      <th>Date</th>\n",
       "      <th></th>\n",
       "      <th></th>\n",
       "      <th></th>\n",
       "      <th></th>\n",
       "      <th></th>\n",
       "      <th></th>\n",
       "      <th></th>\n",
       "    </tr>\n",
       "  </thead>\n",
       "  <tbody>\n",
       "    <tr>\n",
       "      <th>2001-11-27</th>\n",
       "      <td>116.900002</td>\n",
       "      <td>114.089996</td>\n",
       "      <td>115.620003</td>\n",
       "      <td>115.430000</td>\n",
       "      <td>19261400.0</td>\n",
       "      <td>82.464890</td>\n",
       "      <td>-0.004313</td>\n",
       "    </tr>\n",
       "    <tr>\n",
       "      <th>2001-11-28</th>\n",
       "      <td>115.169998</td>\n",
       "      <td>113.250000</td>\n",
       "      <td>114.739998</td>\n",
       "      <td>113.339996</td>\n",
       "      <td>20195500.0</td>\n",
       "      <td>80.971771</td>\n",
       "      <td>-0.018106</td>\n",
       "    </tr>\n",
       "    <tr>\n",
       "      <th>2001-11-29</th>\n",
       "      <td>114.919998</td>\n",
       "      <td>113.000000</td>\n",
       "      <td>113.660004</td>\n",
       "      <td>114.870003</td>\n",
       "      <td>16354700.0</td>\n",
       "      <td>82.064789</td>\n",
       "      <td>0.013499</td>\n",
       "    </tr>\n",
       "    <tr>\n",
       "      <th>2001-11-30</th>\n",
       "      <td>114.910004</td>\n",
       "      <td>114.019997</td>\n",
       "      <td>114.400002</td>\n",
       "      <td>114.050003</td>\n",
       "      <td>13680300.0</td>\n",
       "      <td>81.478951</td>\n",
       "      <td>-0.007139</td>\n",
       "    </tr>\n",
       "    <tr>\n",
       "      <th>2001-12-03</th>\n",
       "      <td>114.080002</td>\n",
       "      <td>113.010002</td>\n",
       "      <td>113.650002</td>\n",
       "      <td>113.370003</td>\n",
       "      <td>15220400.0</td>\n",
       "      <td>80.993187</td>\n",
       "      <td>-0.005962</td>\n",
       "    </tr>\n",
       "  </tbody>\n",
       "</table>\n",
       "</div>"
      ],
      "text/plain": [
       "                  High         Low        Open       Close      Volume  \\\n",
       "Date                                                                     \n",
       "2001-11-27  116.900002  114.089996  115.620003  115.430000  19261400.0   \n",
       "2001-11-28  115.169998  113.250000  114.739998  113.339996  20195500.0   \n",
       "2001-11-29  114.919998  113.000000  113.660004  114.870003  16354700.0   \n",
       "2001-11-30  114.910004  114.019997  114.400002  114.050003  13680300.0   \n",
       "2001-12-03  114.080002  113.010002  113.650002  113.370003  15220400.0   \n",
       "\n",
       "            Adj Close  daily return  \n",
       "Date                                 \n",
       "2001-11-27  82.464890     -0.004313  \n",
       "2001-11-28  80.971771     -0.018106  \n",
       "2001-11-29  82.064789      0.013499  \n",
       "2001-11-30  81.478951     -0.007139  \n",
       "2001-12-03  80.993187     -0.005962  "
      ]
     },
     "execution_count": 20,
     "metadata": {},
     "output_type": "execute_result"
    }
   ],
   "source": [
    "daily_r = (spy['Adj Close']-spy['Adj Close'].shift(1))/spy['Adj Close'].shift(1)\n",
    "spy['daily return']= daily_r\n",
    "spy = spy.iloc[1:,]\n",
    "spy.head()"
   ]
  },
  {
   "cell_type": "code",
   "execution_count": 21,
   "metadata": {},
   "outputs": [
    {
     "data": {
      "text/plain": [
       "0.774073470616207"
      ]
     },
     "execution_count": 21,
     "metadata": {},
     "output_type": "execute_result"
    }
   ],
   "source": [
    "total_daily_return = (IGE['daily return']-spy['daily return'])/2\n",
    "Sharpe_ratio_neutral = total_daily_return.mean()/total_daily_return.std()*np.sqrt(252)\n",
    "Sharpe_ratio_neutral"
   ]
  },
  {
   "cell_type": "code",
   "execution_count": 22,
   "metadata": {},
   "outputs": [],
   "source": [
    "%matplotlib inline\n",
    "import matplotlib\n",
    "import matplotlib.pyplot as plt"
   ]
  },
  {
   "cell_type": "code",
   "execution_count": 23,
   "metadata": {},
   "outputs": [
    {
     "data": {
      "text/plain": [
       "<matplotlib.axes._subplots.AxesSubplot at 0x1adc2348390>"
      ]
     },
     "execution_count": 23,
     "metadata": {},
     "output_type": "execute_result"
    },
    {
     "data": {
      "image/png": "[encoded data removed]",
      "text/plain": [
       "<Figure size 432x288 with 1 Axes>"
      ]
     },
     "metadata": {
      "needs_background": "light"
     },
     "output_type": "display_data"
    }
   ],
   "source": [
    "IGE['Close'].plot() #plot IGE stock price"
   ]
  },
  {
   "cell_type": "markdown",
   "metadata": {},
   "source": [
    "# Example 3.6: Pair Trading of GLD and GDX\n",
    "* GLD versus GDX is a good candidate for pair trading because GLD\n",
    "reflects the spot price of gold, and GDX is a basket of gold-mining\n",
    "stocks. It makes intuitive sense that their prices should move in tandem.\n",
    "* the pair trading algorithm works like this: find two instruments with strong correlation, then use liear regression to find the hedge_ratio $\\beta$ between them, compute the spread of the two using this $\\beta$, and finding trading signals by setting s threshold on the spread\n",
    "* we will use the most recent data"
   ]
  },
  {
   "cell_type": "code",
   "execution_count": 24,
   "metadata": {},
   "outputs": [],
   "source": [
    "symbol = 'GLD'\n",
    "start = datetime(2017,3,7)\n",
    "end = datetime.now()"
   ]
  },
  {
   "cell_type": "code",
   "execution_count": 25,
   "metadata": {},
   "outputs": [
    {
     "data": {
      "text/html": [
       "<div>\n",
       "<style scoped>\n",
       "    .dataframe tbody tr th:only-of-type {\n",
       "        vertical-align: middle;\n",
       "    }\n",
       "\n",
       "    .dataframe tbody tr th {\n",
       "        vertical-align: top;\n",
       "    }\n",
       "\n",
       "    .dataframe thead th {\n",
       "        text-align: right;\n",
       "    }\n",
       "</style>\n",
       "<table border=\"1\" class=\"dataframe\">\n",
       "  <thead>\n",
       "    <tr style=\"text-align: right;\">\n",
       "      <th></th>\n",
       "      <th>High</th>\n",
       "      <th>Low</th>\n",
       "      <th>Open</th>\n",
       "      <th>Close</th>\n",
       "      <th>Volume</th>\n",
       "      <th>Adj Close</th>\n",
       "    </tr>\n",
       "    <tr>\n",
       "      <th>Date</th>\n",
       "      <th></th>\n",
       "      <th></th>\n",
       "      <th></th>\n",
       "      <th></th>\n",
       "      <th></th>\n",
       "      <th></th>\n",
       "    </tr>\n",
       "  </thead>\n",
       "  <tbody>\n",
       "    <tr>\n",
       "      <th>2017-03-06</th>\n",
       "      <td>117.349998</td>\n",
       "      <td>116.629997</td>\n",
       "      <td>117.349998</td>\n",
       "      <td>116.720001</td>\n",
       "      <td>4883500</td>\n",
       "      <td>116.720001</td>\n",
       "    </tr>\n",
       "    <tr>\n",
       "      <th>2017-03-07</th>\n",
       "      <td>116.250000</td>\n",
       "      <td>115.620003</td>\n",
       "      <td>116.129997</td>\n",
       "      <td>115.779999</td>\n",
       "      <td>6846300</td>\n",
       "      <td>115.779999</td>\n",
       "    </tr>\n",
       "    <tr>\n",
       "      <th>2017-03-08</th>\n",
       "      <td>115.360001</td>\n",
       "      <td>114.949997</td>\n",
       "      <td>114.989998</td>\n",
       "      <td>115.059998</td>\n",
       "      <td>7620900</td>\n",
       "      <td>115.059998</td>\n",
       "    </tr>\n",
       "    <tr>\n",
       "      <th>2017-03-09</th>\n",
       "      <td>115.029999</td>\n",
       "      <td>114.410004</td>\n",
       "      <td>114.779999</td>\n",
       "      <td>114.470001</td>\n",
       "      <td>6410900</td>\n",
       "      <td>114.470001</td>\n",
       "    </tr>\n",
       "    <tr>\n",
       "      <th>2017-03-10</th>\n",
       "      <td>114.730003</td>\n",
       "      <td>114.129997</td>\n",
       "      <td>114.449997</td>\n",
       "      <td>114.720001</td>\n",
       "      <td>7929500</td>\n",
       "      <td>114.720001</td>\n",
       "    </tr>\n",
       "  </tbody>\n",
       "</table>\n",
       "</div>"
      ],
      "text/plain": [
       "                  High         Low        Open       Close   Volume  \\\n",
       "Date                                                                  \n",
       "2017-03-06  117.349998  116.629997  117.349998  116.720001  4883500   \n",
       "2017-03-07  116.250000  115.620003  116.129997  115.779999  6846300   \n",
       "2017-03-08  115.360001  114.949997  114.989998  115.059998  7620900   \n",
       "2017-03-09  115.029999  114.410004  114.779999  114.470001  6410900   \n",
       "2017-03-10  114.730003  114.129997  114.449997  114.720001  7929500   \n",
       "\n",
       "             Adj Close  \n",
       "Date                    \n",
       "2017-03-06  116.720001  \n",
       "2017-03-07  115.779999  \n",
       "2017-03-08  115.059998  \n",
       "2017-03-09  114.470001  \n",
       "2017-03-10  114.720001  "
      ]
     },
     "execution_count": 25,
     "metadata": {},
     "output_type": "execute_result"
    }
   ],
   "source": [
    "gld = pdr.get_data_yahoo(symbol,start,end)\n",
    "gld.head()"
   ]
  },
  {
   "cell_type": "code",
   "execution_count": 26,
   "metadata": {},
   "outputs": [
    {
     "data": {
      "text/html": [
       "<div>\n",
       "<style scoped>\n",
       "    .dataframe tbody tr th:only-of-type {\n",
       "        vertical-align: middle;\n",
       "    }\n",
       "\n",
       "    .dataframe tbody tr th {\n",
       "        vertical-align: top;\n",
       "    }\n",
       "\n",
       "    .dataframe thead th {\n",
       "        text-align: right;\n",
       "    }\n",
       "</style>\n",
       "<table border=\"1\" class=\"dataframe\">\n",
       "  <thead>\n",
       "    <tr style=\"text-align: right;\">\n",
       "      <th></th>\n",
       "      <th>High</th>\n",
       "      <th>Low</th>\n",
       "      <th>Open</th>\n",
       "      <th>Close</th>\n",
       "      <th>Volume</th>\n",
       "      <th>Adj Close</th>\n",
       "    </tr>\n",
       "    <tr>\n",
       "      <th>Date</th>\n",
       "      <th></th>\n",
       "      <th></th>\n",
       "      <th></th>\n",
       "      <th></th>\n",
       "      <th></th>\n",
       "      <th></th>\n",
       "    </tr>\n",
       "  </thead>\n",
       "  <tbody>\n",
       "    <tr>\n",
       "      <th>2017-03-06</th>\n",
       "      <td>22.120001</td>\n",
       "      <td>21.350000</td>\n",
       "      <td>22.100000</td>\n",
       "      <td>21.639999</td>\n",
       "      <td>75805800.0</td>\n",
       "      <td>21.353817</td>\n",
       "    </tr>\n",
       "    <tr>\n",
       "      <th>2017-03-07</th>\n",
       "      <td>21.799999</td>\n",
       "      <td>21.219999</td>\n",
       "      <td>21.379999</td>\n",
       "      <td>21.510000</td>\n",
       "      <td>49198800.0</td>\n",
       "      <td>21.225536</td>\n",
       "    </tr>\n",
       "    <tr>\n",
       "      <th>2017-03-08</th>\n",
       "      <td>21.639999</td>\n",
       "      <td>21.170000</td>\n",
       "      <td>21.230000</td>\n",
       "      <td>21.350000</td>\n",
       "      <td>47354800.0</td>\n",
       "      <td>21.067654</td>\n",
       "    </tr>\n",
       "    <tr>\n",
       "      <th>2017-03-09</th>\n",
       "      <td>21.549999</td>\n",
       "      <td>21.139999</td>\n",
       "      <td>21.389999</td>\n",
       "      <td>21.139999</td>\n",
       "      <td>36909000.0</td>\n",
       "      <td>20.860430</td>\n",
       "    </tr>\n",
       "    <tr>\n",
       "      <th>2017-03-10</th>\n",
       "      <td>21.889999</td>\n",
       "      <td>21.190001</td>\n",
       "      <td>21.320000</td>\n",
       "      <td>21.730000</td>\n",
       "      <td>82724800.0</td>\n",
       "      <td>21.442627</td>\n",
       "    </tr>\n",
       "  </tbody>\n",
       "</table>\n",
       "</div>"
      ],
      "text/plain": [
       "                 High        Low       Open      Close      Volume  Adj Close\n",
       "Date                                                                         \n",
       "2017-03-06  22.120001  21.350000  22.100000  21.639999  75805800.0  21.353817\n",
       "2017-03-07  21.799999  21.219999  21.379999  21.510000  49198800.0  21.225536\n",
       "2017-03-08  21.639999  21.170000  21.230000  21.350000  47354800.0  21.067654\n",
       "2017-03-09  21.549999  21.139999  21.389999  21.139999  36909000.0  20.860430\n",
       "2017-03-10  21.889999  21.190001  21.320000  21.730000  82724800.0  21.442627"
      ]
     },
     "execution_count": 26,
     "metadata": {},
     "output_type": "execute_result"
    }
   ],
   "source": [
    "symbol = 'GDX'\n",
    "gdx = pdr.get_data_yahoo(symbol,start,end)\n",
    "gdx.head()"
   ]
  },
  {
   "cell_type": "code",
   "execution_count": 27,
   "metadata": {},
   "outputs": [
    {
     "data": {
      "text/plain": [
       "array([[1.       , 0.7567263],\n",
       "       [0.7567263, 1.       ]])"
      ]
     },
     "execution_count": 27,
     "metadata": {},
     "output_type": "execute_result"
    }
   ],
   "source": [
    "np.corrcoef(gld['Adj Close'],gdx['Adj Close'])"
   ]
  },
  {
   "cell_type": "markdown",
   "metadata": {},
   "source": [
    " the correlation is about 0.757. this implies this two instruments indeed is strongly correlated"
   ]
  },
  {
   "cell_type": "code",
   "execution_count": 28,
   "metadata": {},
   "outputs": [
    {
     "data": {
      "text/html": [
       "<div>\n",
       "<style scoped>\n",
       "    .dataframe tbody tr th:only-of-type {\n",
       "        vertical-align: middle;\n",
       "    }\n",
       "\n",
       "    .dataframe tbody tr th {\n",
       "        vertical-align: top;\n",
       "    }\n",
       "\n",
       "    .dataframe thead th {\n",
       "        text-align: right;\n",
       "    }\n",
       "</style>\n",
       "<table border=\"1\" class=\"dataframe\">\n",
       "  <thead>\n",
       "    <tr style=\"text-align: right;\">\n",
       "      <th></th>\n",
       "      <th>High</th>\n",
       "      <th>Low</th>\n",
       "      <th>Open</th>\n",
       "      <th>Close</th>\n",
       "      <th>Volume</th>\n",
       "      <th>gld</th>\n",
       "    </tr>\n",
       "    <tr>\n",
       "      <th>Date</th>\n",
       "      <th></th>\n",
       "      <th></th>\n",
       "      <th></th>\n",
       "      <th></th>\n",
       "      <th></th>\n",
       "      <th></th>\n",
       "    </tr>\n",
       "  </thead>\n",
       "  <tbody>\n",
       "    <tr>\n",
       "      <th>2017-03-06</th>\n",
       "      <td>117.349998</td>\n",
       "      <td>116.629997</td>\n",
       "      <td>117.349998</td>\n",
       "      <td>116.720001</td>\n",
       "      <td>4883500</td>\n",
       "      <td>116.720001</td>\n",
       "    </tr>\n",
       "    <tr>\n",
       "      <th>2017-03-07</th>\n",
       "      <td>116.250000</td>\n",
       "      <td>115.620003</td>\n",
       "      <td>116.129997</td>\n",
       "      <td>115.779999</td>\n",
       "      <td>6846300</td>\n",
       "      <td>115.779999</td>\n",
       "    </tr>\n",
       "    <tr>\n",
       "      <th>2017-03-08</th>\n",
       "      <td>115.360001</td>\n",
       "      <td>114.949997</td>\n",
       "      <td>114.989998</td>\n",
       "      <td>115.059998</td>\n",
       "      <td>7620900</td>\n",
       "      <td>115.059998</td>\n",
       "    </tr>\n",
       "    <tr>\n",
       "      <th>2017-03-09</th>\n",
       "      <td>115.029999</td>\n",
       "      <td>114.410004</td>\n",
       "      <td>114.779999</td>\n",
       "      <td>114.470001</td>\n",
       "      <td>6410900</td>\n",
       "      <td>114.470001</td>\n",
       "    </tr>\n",
       "    <tr>\n",
       "      <th>2017-03-10</th>\n",
       "      <td>114.730003</td>\n",
       "      <td>114.129997</td>\n",
       "      <td>114.449997</td>\n",
       "      <td>114.720001</td>\n",
       "      <td>7929500</td>\n",
       "      <td>114.720001</td>\n",
       "    </tr>\n",
       "  </tbody>\n",
       "</table>\n",
       "</div>"
      ],
      "text/plain": [
       "                  High         Low        Open       Close   Volume  \\\n",
       "Date                                                                  \n",
       "2017-03-06  117.349998  116.629997  117.349998  116.720001  4883500   \n",
       "2017-03-07  116.250000  115.620003  116.129997  115.779999  6846300   \n",
       "2017-03-08  115.360001  114.949997  114.989998  115.059998  7620900   \n",
       "2017-03-09  115.029999  114.410004  114.779999  114.470001  6410900   \n",
       "2017-03-10  114.730003  114.129997  114.449997  114.720001  7929500   \n",
       "\n",
       "                   gld  \n",
       "Date                    \n",
       "2017-03-06  116.720001  \n",
       "2017-03-07  115.779999  \n",
       "2017-03-08  115.059998  \n",
       "2017-03-09  114.470001  \n",
       "2017-03-10  114.720001  "
      ]
     },
     "execution_count": 28,
     "metadata": {},
     "output_type": "execute_result"
    }
   ],
   "source": [
    "gld.rename(columns = {'Adj Close': \"gld\"},inplace = True)\n",
    "gld.head()"
   ]
  },
  {
   "cell_type": "code",
   "execution_count": 29,
   "metadata": {},
   "outputs": [
    {
     "data": {
      "text/html": [
       "<div>\n",
       "<style scoped>\n",
       "    .dataframe tbody tr th:only-of-type {\n",
       "        vertical-align: middle;\n",
       "    }\n",
       "\n",
       "    .dataframe tbody tr th {\n",
       "        vertical-align: top;\n",
       "    }\n",
       "\n",
       "    .dataframe thead th {\n",
       "        text-align: right;\n",
       "    }\n",
       "</style>\n",
       "<table border=\"1\" class=\"dataframe\">\n",
       "  <thead>\n",
       "    <tr style=\"text-align: right;\">\n",
       "      <th></th>\n",
       "      <th>High</th>\n",
       "      <th>Low</th>\n",
       "      <th>Open</th>\n",
       "      <th>Close</th>\n",
       "      <th>Volume</th>\n",
       "      <th>gdx</th>\n",
       "    </tr>\n",
       "    <tr>\n",
       "      <th>Date</th>\n",
       "      <th></th>\n",
       "      <th></th>\n",
       "      <th></th>\n",
       "      <th></th>\n",
       "      <th></th>\n",
       "      <th></th>\n",
       "    </tr>\n",
       "  </thead>\n",
       "  <tbody>\n",
       "    <tr>\n",
       "      <th>2017-03-06</th>\n",
       "      <td>22.120001</td>\n",
       "      <td>21.350000</td>\n",
       "      <td>22.100000</td>\n",
       "      <td>21.639999</td>\n",
       "      <td>75805800.0</td>\n",
       "      <td>21.353817</td>\n",
       "    </tr>\n",
       "    <tr>\n",
       "      <th>2017-03-07</th>\n",
       "      <td>21.799999</td>\n",
       "      <td>21.219999</td>\n",
       "      <td>21.379999</td>\n",
       "      <td>21.510000</td>\n",
       "      <td>49198800.0</td>\n",
       "      <td>21.225536</td>\n",
       "    </tr>\n",
       "    <tr>\n",
       "      <th>2017-03-08</th>\n",
       "      <td>21.639999</td>\n",
       "      <td>21.170000</td>\n",
       "      <td>21.230000</td>\n",
       "      <td>21.350000</td>\n",
       "      <td>47354800.0</td>\n",
       "      <td>21.067654</td>\n",
       "    </tr>\n",
       "    <tr>\n",
       "      <th>2017-03-09</th>\n",
       "      <td>21.549999</td>\n",
       "      <td>21.139999</td>\n",
       "      <td>21.389999</td>\n",
       "      <td>21.139999</td>\n",
       "      <td>36909000.0</td>\n",
       "      <td>20.860430</td>\n",
       "    </tr>\n",
       "    <tr>\n",
       "      <th>2017-03-10</th>\n",
       "      <td>21.889999</td>\n",
       "      <td>21.190001</td>\n",
       "      <td>21.320000</td>\n",
       "      <td>21.730000</td>\n",
       "      <td>82724800.0</td>\n",
       "      <td>21.442627</td>\n",
       "    </tr>\n",
       "  </tbody>\n",
       "</table>\n",
       "</div>"
      ],
      "text/plain": [
       "                 High        Low       Open      Close      Volume        gdx\n",
       "Date                                                                         \n",
       "2017-03-06  22.120001  21.350000  22.100000  21.639999  75805800.0  21.353817\n",
       "2017-03-07  21.799999  21.219999  21.379999  21.510000  49198800.0  21.225536\n",
       "2017-03-08  21.639999  21.170000  21.230000  21.350000  47354800.0  21.067654\n",
       "2017-03-09  21.549999  21.139999  21.389999  21.139999  36909000.0  20.860430\n",
       "2017-03-10  21.889999  21.190001  21.320000  21.730000  82724800.0  21.442627"
      ]
     },
     "execution_count": 29,
     "metadata": {},
     "output_type": "execute_result"
    }
   ],
   "source": [
    "gdx.rename(columns = {'Adj Close': \"gdx\"},inplace = True)\n",
    "gdx.head()"
   ]
  },
  {
   "cell_type": "code",
   "execution_count": 30,
   "metadata": {},
   "outputs": [
    {
     "data": {
      "text/html": [
       "<div>\n",
       "<style scoped>\n",
       "    .dataframe tbody tr th:only-of-type {\n",
       "        vertical-align: middle;\n",
       "    }\n",
       "\n",
       "    .dataframe tbody tr th {\n",
       "        vertical-align: top;\n",
       "    }\n",
       "\n",
       "    .dataframe thead th {\n",
       "        text-align: right;\n",
       "    }\n",
       "</style>\n",
       "<table border=\"1\" class=\"dataframe\">\n",
       "  <thead>\n",
       "    <tr style=\"text-align: right;\">\n",
       "      <th></th>\n",
       "      <th>gld</th>\n",
       "      <th>gdx</th>\n",
       "    </tr>\n",
       "    <tr>\n",
       "      <th>Date</th>\n",
       "      <th></th>\n",
       "      <th></th>\n",
       "    </tr>\n",
       "  </thead>\n",
       "  <tbody>\n",
       "    <tr>\n",
       "      <th>2017-03-06</th>\n",
       "      <td>116.720001</td>\n",
       "      <td>21.353817</td>\n",
       "    </tr>\n",
       "    <tr>\n",
       "      <th>2017-03-07</th>\n",
       "      <td>115.779999</td>\n",
       "      <td>21.225536</td>\n",
       "    </tr>\n",
       "    <tr>\n",
       "      <th>2017-03-08</th>\n",
       "      <td>115.059998</td>\n",
       "      <td>21.067654</td>\n",
       "    </tr>\n",
       "    <tr>\n",
       "      <th>2017-03-09</th>\n",
       "      <td>114.470001</td>\n",
       "      <td>20.860430</td>\n",
       "    </tr>\n",
       "    <tr>\n",
       "      <th>2017-03-10</th>\n",
       "      <td>114.720001</td>\n",
       "      <td>21.442627</td>\n",
       "    </tr>\n",
       "  </tbody>\n",
       "</table>\n",
       "</div>"
      ],
      "text/plain": [
       "                   gld        gdx\n",
       "Date                             \n",
       "2017-03-06  116.720001  21.353817\n",
       "2017-03-07  115.779999  21.225536\n",
       "2017-03-08  115.059998  21.067654\n",
       "2017-03-09  114.470001  20.860430\n",
       "2017-03-10  114.720001  21.442627"
      ]
     },
     "execution_count": 30,
     "metadata": {},
     "output_type": "execute_result"
    }
   ],
   "source": [
    "import pandas as pd\n",
    "df= pd.DataFrame({'gld': gld['gld'],'gdx':gdx['gdx']},index = gld.index)\n",
    "df.head()"
   ]
  },
  {
   "cell_type": "code",
   "execution_count": 31,
   "metadata": {},
   "outputs": [
    {
     "data": {
      "text/plain": [
       "Date\n",
       "2017-03-06    116.720001\n",
       "2017-03-07    115.779999\n",
       "2017-03-08    115.059998\n",
       "2017-03-09    114.470001\n",
       "2017-03-10    114.720001\n",
       "Name: gld, dtype: float64"
      ]
     },
     "execution_count": 31,
     "metadata": {},
     "output_type": "execute_result"
    }
   ],
   "source": [
    "t = datetime(2018,3,6)\n",
    "X_train = df[df.index<t]['gld']\n",
    "y_train=df[df.index<t]['gdx']\n",
    "X_train[:5]"
   ]
  },
  {
   "cell_type": "code",
   "execution_count": 32,
   "metadata": {},
   "outputs": [
    {
     "data": {
      "text/plain": [
       "Date\n",
       "2018-03-06    126.529999\n",
       "2018-03-07    125.720001\n",
       "2018-03-08    125.419998\n",
       "2018-03-09    125.540001\n",
       "2018-03-12    125.540001\n",
       "Name: gld, dtype: float64"
      ]
     },
     "execution_count": 32,
     "metadata": {},
     "output_type": "execute_result"
    }
   ],
   "source": [
    "X_test = df[df.index>=t]['gld']\n",
    "y_test=df[df.index>=t]['gdx']\n",
    "X_test[:5]"
   ]
  },
  {
   "cell_type": "code",
   "execution_count": 33,
   "metadata": {},
   "outputs": [],
   "source": [
    "import numpy as np\n",
    "from sklearn.linear_model import LinearRegression"
   ]
  },
  {
   "cell_type": "code",
   "execution_count": 34,
   "metadata": {},
   "outputs": [
    {
     "data": {
      "text/plain": [
       "LinearRegression(copy_X=True, fit_intercept=True, n_jobs=1, normalize=False)"
      ]
     },
     "execution_count": 34,
     "metadata": {},
     "output_type": "execute_result"
    }
   ],
   "source": [
    "lr = LinearRegression()\n",
    "lr.fit(X_train.values.reshape(-1,1),y_train.values.reshape(-1,1))"
   ]
  },
  {
   "cell_type": "code",
   "execution_count": 35,
   "metadata": {},
   "outputs": [],
   "source": [
    "b,a = lr.intercept_,lr.coef_"
   ]
  },
  {
   "cell_type": "markdown",
   "metadata": {},
   "source": [
    "* $y = 0.171*x + 1.806$"
   ]
  },
  {
   "cell_type": "code",
   "execution_count": 36,
   "metadata": {},
   "outputs": [],
   "source": [
    "spread_train = y_train.values - a*X_train.values -b"
   ]
  },
  {
   "cell_type": "code",
   "execution_count": 42,
   "metadata": {},
   "outputs": [
    {
     "data": {
      "text/plain": [
       "(1.931435611093923e-15, 0.6616189885735292)"
      ]
     },
     "execution_count": 42,
     "metadata": {},
     "output_type": "execute_result"
    }
   ],
   "source": [
    "m,s=spread_train.mean(),spread_train.std()\n",
    "m,s"
   ]
  },
  {
   "cell_type": "code",
   "execution_count": 38,
   "metadata": {},
   "outputs": [
    {
     "data": {
      "text/plain": [
       "array([-0.41151852, -0.37905569, -0.41381584, -0.52014844,  0.01929794,\n",
       "        0.28230835, -0.26294038,  0.99113219,  0.70182807,  0.55869149])"
      ]
     },
     "execution_count": 38,
     "metadata": {},
     "output_type": "execute_result"
    }
   ],
   "source": [
    "spread_train[0,0:10]"
   ]
  },
  {
   "cell_type": "code",
   "execution_count": 39,
   "metadata": {},
   "outputs": [],
   "source": [
    "spread_train = pd.Series(spread_train[0],index = X_train.index)"
   ]
  },
  {
   "cell_type": "code",
   "execution_count": 40,
   "metadata": {},
   "outputs": [
    {
     "data": {
      "text/plain": [
       "Date\n",
       "2017-03-06   -0.411519\n",
       "2017-03-07   -0.379056\n",
       "2017-03-08   -0.413816\n",
       "2017-03-09   -0.520148\n",
       "2017-03-10    0.019298\n",
       "dtype: float64"
      ]
     },
     "execution_count": 40,
     "metadata": {},
     "output_type": "execute_result"
    }
   ],
   "source": [
    "spread_train[:5]"
   ]
  },
  {
   "cell_type": "markdown",
   "metadata": {},
   "source": [
    "first we try signals that long ro short in 2 std and quit in 1 std"
   ]
  },
  {
   "cell_type": "code",
   "execution_count": 46,
   "metadata": {},
   "outputs": [
    {
     "data": {
      "text/plain": [
       "<matplotlib.lines.Line2D at 0x1adc683e080>"
      ]
     },
     "execution_count": 46,
     "metadata": {},
     "output_type": "execute_result"
    },
    {
     "data": {
      "image/png": "[encoded data removed]",
      "text/plain": [
       "<Figure size 432x288 with 1 Axes>"
      ]
     },
     "metadata": {
      "needs_background": "light"
     },
     "output_type": "display_data"
    }
   ],
   "source": [
    "spread_train.plot()\n",
    "plt.axhline(y=2*s,color='r',linestyle='-')\n",
    "plt.axhline(y=s,color='r',linestyle='-')\n",
    "plt.axhline(y=0,color='r',linestyle='-')\n",
    "plt.axhline(y=-s,color='r',linestyle='-')\n",
    "plt.axhline(y=-2*s,color='r',linestyle='-')"
   ]
  },
  {
   "cell_type": "markdown",
   "metadata": {},
   "source": [
    "it looks like in the train set this strategy is profitable at least from the plotting"
   ]
  },
  {
   "cell_type": "code",
   "execution_count": 47,
   "metadata": {},
   "outputs": [],
   "source": [
    "spread_test = y_test.values - a*X_test.values - b"
   ]
  },
  {
   "cell_type": "code",
   "execution_count": 49,
   "metadata": {},
   "outputs": [],
   "source": [
    "spread_test = pd.Series(spread_test[0],index = X_test.index)"
   ]
  },
  {
   "cell_type": "code",
   "execution_count": 50,
   "metadata": {},
   "outputs": [
    {
     "data": {
      "text/plain": [
       "<matplotlib.lines.Line2D at 0x1adc68d51d0>"
      ]
     },
     "execution_count": 50,
     "metadata": {},
     "output_type": "execute_result"
    },
    {
     "data": {
      "image/png": "[encoded data removed]",
      "text/plain": [
       "<Figure size 432x288 with 1 Axes>"
      ]
     },
     "metadata": {
      "needs_background": "light"
     },
     "output_type": "display_data"
    }
   ],
   "source": [
    "spread_test.plot()\n",
    "plt.axhline(y=2*s,color='r',linestyle='-')\n",
    "plt.axhline(y=s,color='r',linestyle='-')\n",
    "plt.axhline(y=0,color='r',linestyle='-')\n",
    "plt.axhline(y=-s,color='r',linestyle='-')\n",
    "plt.axhline(y=-2*s,color='r',linestyle='-')"
   ]
  },
  {
   "cell_type": "markdown",
   "metadata": {},
   "source": [
    "but it will not perform well in the test set, instead it looks like that the average moved downwards. And we will suffer from a long period of loss. But maybe we can try a moving avarage method. "
   ]
  },
  {
   "cell_type": "markdown",
   "metadata": {},
   "source": [
    "# This part is my experiment of paring trading strategy.\n",
    "* observations, normal pair trading strategy won't perform well. this can be seen from the plotting.\n",
    "* but from the plotting of the test set, if we use a moving average strategy, this will be profitble (at least looks like).\n",
    "* this is not data snooping, become to test this strategy, we can do some paper trading to see whether it is profitable or not."
   ]
  },
  {
   "cell_type": "markdown",
   "metadata": {},
   "source": [
    "Ideal and algorithms:\n",
    "    * use the the most recent one year data to find trading signal everyday. for example, on March 8,2019, \n",
    "    we will use data from March 8,2018 to March 7,2019. fitting linear regression to this one years data, \n",
    "    then compute mean and standatd deviation."
   ]
  },
  {
   "cell_type": "code",
   "execution_count": 111,
   "metadata": {},
   "outputs": [],
   "source": [
    "from datetime import timedelta\n",
    "def pairing_trading_signal(end, back=timedelta(365)):\n",
    "    symbol1 = 'GLD'\n",
    "    symbol2 = 'GDX'\n",
    "    start = end - back\n",
    "    gld = pdr.get_data_yahoo(symbol1,start,end)['Adj Close']\n",
    "    gdx = pdr.get_data_yahoo(symbol2,start,end)['Adj Close']\n",
    "    lr = LinearRegression()\n",
    "    lr.fit(gld.values[:-2].reshape(-1,1),gdx.values[:-2].reshape(-1,1))\n",
    "    a,b = lr.coef_,lr.intercept_\n",
    "    residual = gdx.values - a*gld.values - b\n",
    "    m , s = residual.mean(), residual.std()\n",
    "    spread = gdx.values[-1] - a*gld.values[-1] - b\n",
    "    return a[0,0],b[0],m,s,spread[0][0]"
   ]
  },
  {
   "cell_type": "code",
   "execution_count": 112,
   "metadata": {},
   "outputs": [],
   "source": [
    "t= datetime.now()"
   ]
  },
  {
   "cell_type": "code",
   "execution_count": 113,
   "metadata": {},
   "outputs": [
    {
     "data": {
      "text/plain": [
       "(0.1761337791301253,\n",
       " 1.1969977684150237,\n",
       " -0.014344800867715161,\n",
       " 0.6605180806132154,\n",
       " -1.7093715898184492)"
      ]
     },
     "execution_count": 113,
     "metadata": {},
     "output_type": "execute_result"
    }
   ],
   "source": [
    "pairing_trading_signal(datetime(2018,3,5))"
   ]
  },
  {
   "cell_type": "markdown",
   "metadata": {},
   "source": [
    "* this coincides with our previous computation, so our function is correct\n",
    "* now let us plot the moving avarage and std to see intuitively whether our strategy works"
   ]
  },
  {
   "cell_type": "code",
   "execution_count": 117,
   "metadata": {},
   "outputs": [],
   "source": [
    "def plot_moving_average_std(start,end):\n",
    "    index = pd.date_range(start,end,freq = 'B')\n",
    "    m = []\n",
    "    s = []\n",
    "    spread = []\n",
    "    for d in index:\n",
    "        a,b,l,k,t = pairing_trading_signal(d)\n",
    "        m.append(l)\n",
    "        s.append(k)\n",
    "        spread.append(t)\n",
    "    df = pd.DataFrame({'mean':m,'std':s,\"spread\":spread},index = index)\n",
    "    s1 = df['std'].apply(lambda x: 0.8*x)\n",
    "    s_1 = df['std'].apply(lambda x: -0.8*x)\n",
    "    s_2 = df['std'].apply(lambda x: -0.4*x)\n",
    "    s2 = df['std'].apply(lambda x: 0.4*x)\n",
    "    df['mean'].plot()\n",
    "    df['spread'].plot()\n",
    "    s1.plot()\n",
    "    s2.plot()\n",
    "    s_1.plot()\n",
    "    s_2.plot()\n",
    "    return\n",
    "        "
   ]
  },
  {
   "cell_type": "markdown",
   "metadata": {},
   "source": [
    "# this algorithm takes a lot of times to run, we can speed it to pre-load a plong period of data"
   ]
  },
  {
   "cell_type": "code",
   "execution_count": 118,
   "metadata": {},
   "outputs": [
    {
     "name": "stdout",
     "output_type": "stream",
     "text": [
      "Wall time: 4min 2s\n"
     ]
    },
    {
     "data": {
      "image/png": "[encoded data removed]",
      "text/plain": [
       "<Figure size 432x288 with 1 Axes>"
      ]
     },
     "metadata": {
      "needs_background": "light"
     },
     "output_type": "display_data"
    }
   ],
   "source": [
    "%%time\n",
    "plot_moving_average_std('2019-01-01','2019-03-08')"
   ]
  },
  {
   "cell_type": "markdown",
   "metadata": {},
   "source": [
    "our trading strategy is chosen like this:\n",
    "        * if the spread is big than 0.8 * std, then we hold a position of -[1,-a]/(1-a) (gdx,gld), and we will hold [0,0] when \n",
    "        spread is below 0.4 std\n",
    "        * if the spread if less than -0.8 * std, then we hold a position of [1,-a]/(1-a) (gdx,gld), and we will hold [0,0] when \n",
    "        spread is above -0.4 std\n",
    "        * so we always hold a [0,0] position when spread is between -0.4 std and 0.4 std\n",
    "next we will backtest our strategy and compute the Sharpe Ratio"
   ]
  },
  {
   "cell_type": "code",
   "execution_count": 352,
   "metadata": {},
   "outputs": [],
   "source": [
    "start = datetime(2017,3,7)\n",
    "end = datetime(2019,3,7)\n",
    "symbol1 = 'GLD'\n",
    "symbol2 = 'GDX'\n",
    "u = 0.8\n",
    "v= 0.4"
   ]
  },
  {
   "cell_type": "code",
   "execution_count": 353,
   "metadata": {},
   "outputs": [],
   "source": [
    "gld = pdr.get_data_yahoo(symbol1,start - timedelta(365),end)['Adj Close']\n",
    "gdx = pdr.get_data_yahoo(symbol2,start - timedelta(365),end)['Adj Close']"
   ]
  },
  {
   "cell_type": "code",
   "execution_count": 354,
   "metadata": {},
   "outputs": [
    {
     "data": {
      "text/plain": [
       "DatetimeIndex(['2017-03-07', '2017-03-08', '2017-03-09', '2017-03-10',\n",
       "               '2017-03-13', '2017-03-14', '2017-03-15', '2017-03-16',\n",
       "               '2017-03-17', '2017-03-20'],\n",
       "              dtype='datetime64[ns]', name='Date', freq=None)"
      ]
     },
     "execution_count": 354,
     "metadata": {},
     "output_type": "execute_result"
    }
   ],
   "source": [
    "index = gld[start:].index\n",
    "index[:10]"
   ]
  },
  {
   "cell_type": "code",
   "execution_count": 355,
   "metadata": {},
   "outputs": [
    {
     "data": {
      "text/plain": [
       "128.1300048828125"
      ]
     },
     "execution_count": 355,
     "metadata": {},
     "output_type": "execute_result"
    }
   ],
   "source": [
    "gld[index[380]-timedelta(365)]"
   ]
  },
  {
   "cell_type": "code",
   "execution_count": 356,
   "metadata": {},
   "outputs": [],
   "source": [
    "position = pd.DataFrame(np.zeros((len(index),3)),index = index, columns = ['gdx','gld','indicator'])\n",
    "d= index[0]\n",
    "X = gld[d-timedelta(365):d]\n",
    "y = gdx[d-timedelta(365):d]\n",
    "lr =LinearRegression()\n",
    "lr.fit(X.values.reshape(-1,1),y.values.reshape(-1,1))\n",
    "a,b = lr.coef_,lr.intercept_\n",
    "residual = y.values - a*X.values - b\n",
    "m , s = residual.mean(), residual.std()\n",
    "spread = gdx[d] - a*gld[d] - b\n",
    "a=a[0,0]"
   ]
  },
  {
   "cell_type": "code",
   "execution_count": 357,
   "metadata": {},
   "outputs": [
    {
     "data": {
      "text/plain": [
       "(0.480386777877393, array([-33.72746259]))"
      ]
     },
     "execution_count": 357,
     "metadata": {},
     "output_type": "execute_result"
    }
   ],
   "source": [
    "a,b"
   ]
  },
  {
   "cell_type": "code",
   "execution_count": 358,
   "metadata": {},
   "outputs": [],
   "source": [
    "if spread >= u*s:\n",
    "    position.loc[d,]= [-1/(1-a),a/(1-a),1]  \n",
    "elif spread <= -u*s :\n",
    "    position.loc[d,]= [1/(1-a),-a/(1-a),-1] \n",
    "else:\n",
    "    position.loc[d,]=[0,0,0]"
   ]
  },
  {
   "cell_type": "code",
   "execution_count": 359,
   "metadata": {},
   "outputs": [
    {
     "data": {
      "text/plain": [
       "gdx          0.0\n",
       "gld          0.0\n",
       "indicator    0.0\n",
       "Name: 2017-03-07 00:00:00, dtype: float64"
      ]
     },
     "execution_count": 359,
     "metadata": {},
     "output_type": "execute_result"
    }
   ],
   "source": [
    "position.loc[d]"
   ]
  },
  {
   "cell_type": "code",
   "execution_count": 360,
   "metadata": {},
   "outputs": [],
   "source": [
    "for i in range(1,len(index)):\n",
    "    d= index[i]\n",
    "    X = gld[d-timedelta(365):d]\n",
    "    y = gdx[d-timedelta(365):d]\n",
    "    lr.fit(X.values.reshape(-1,1),y.values.reshape(-1,1))\n",
    "    a,b = lr.coef_,lr.intercept_\n",
    "    residual = y.values - a*X.values - b\n",
    "    m , s = residual.mean(), residual.std()\n",
    "    spread = gdx[d] - a*gld[d] - b\n",
    "    a=a[0,0]\n",
    "    if spread >= u*s or (spread > v*s and position.loc[index[i-1],'indicator']==1):\n",
    "        position.loc[d,]= [-1/(1-a),a/(1-a),1]  \n",
    "    elif spread <= -u*s or (spread < -v*s and position.loc[index[i-1],'indicator']==-1):\n",
    "        position.loc[d,]= [1/(1-a),-a/(1-a),-1] \n",
    "    else:\n",
    "        position.loc[d,]=[0,0,0]"
   ]
  },
  {
   "cell_type": "code",
   "execution_count": 361,
   "metadata": {},
   "outputs": [
    {
     "data": {
      "text/html": [
       "<div>\n",
       "<style scoped>\n",
       "    .dataframe tbody tr th:only-of-type {\n",
       "        vertical-align: middle;\n",
       "    }\n",
       "\n",
       "    .dataframe tbody tr th {\n",
       "        vertical-align: top;\n",
       "    }\n",
       "\n",
       "    .dataframe thead th {\n",
       "        text-align: right;\n",
       "    }\n",
       "</style>\n",
       "<table border=\"1\" class=\"dataframe\">\n",
       "  <thead>\n",
       "    <tr style=\"text-align: right;\">\n",
       "      <th></th>\n",
       "      <th>gdx</th>\n",
       "      <th>gld</th>\n",
       "      <th>indicator</th>\n",
       "    </tr>\n",
       "    <tr>\n",
       "      <th>Date</th>\n",
       "      <th></th>\n",
       "      <th></th>\n",
       "      <th></th>\n",
       "    </tr>\n",
       "  </thead>\n",
       "  <tbody>\n",
       "    <tr>\n",
       "      <th>2017-03-07</th>\n",
       "      <td>0.0</td>\n",
       "      <td>0.0</td>\n",
       "      <td>0.0</td>\n",
       "    </tr>\n",
       "    <tr>\n",
       "      <th>2017-03-08</th>\n",
       "      <td>0.0</td>\n",
       "      <td>0.0</td>\n",
       "      <td>0.0</td>\n",
       "    </tr>\n",
       "    <tr>\n",
       "      <th>2017-03-09</th>\n",
       "      <td>0.0</td>\n",
       "      <td>0.0</td>\n",
       "      <td>0.0</td>\n",
       "    </tr>\n",
       "    <tr>\n",
       "      <th>2017-03-10</th>\n",
       "      <td>0.0</td>\n",
       "      <td>0.0</td>\n",
       "      <td>0.0</td>\n",
       "    </tr>\n",
       "    <tr>\n",
       "      <th>2017-03-13</th>\n",
       "      <td>0.0</td>\n",
       "      <td>0.0</td>\n",
       "      <td>0.0</td>\n",
       "    </tr>\n",
       "  </tbody>\n",
       "</table>\n",
       "</div>"
      ],
      "text/plain": [
       "            gdx  gld  indicator\n",
       "Date                           \n",
       "2017-03-07  0.0  0.0        0.0\n",
       "2017-03-08  0.0  0.0        0.0\n",
       "2017-03-09  0.0  0.0        0.0\n",
       "2017-03-10  0.0  0.0        0.0\n",
       "2017-03-13  0.0  0.0        0.0"
      ]
     },
     "execution_count": 361,
     "metadata": {},
     "output_type": "execute_result"
    }
   ],
   "source": [
    "position.head()"
   ]
  },
  {
   "cell_type": "code",
   "execution_count": 362,
   "metadata": {},
   "outputs": [],
   "source": [
    "gld = gld[datetime(2017,3,6):]\n",
    "gdx = gdx[datetime(2017,3,6):]"
   ]
  },
  {
   "cell_type": "code",
   "execution_count": 363,
   "metadata": {},
   "outputs": [],
   "source": [
    "r1 = (gld-gld.shift(1))/gld.shift(1)\n",
    "r2 = (gdx-gdx.shift(1))/gdx.shift(1)"
   ]
  },
  {
   "cell_type": "code",
   "execution_count": 364,
   "metadata": {},
   "outputs": [],
   "source": [
    "r1.dropna(inplace = True)"
   ]
  },
  {
   "cell_type": "code",
   "execution_count": 365,
   "metadata": {},
   "outputs": [],
   "source": [
    "r2.dropna(inplace=True)"
   ]
  },
  {
   "cell_type": "code",
   "execution_count": 366,
   "metadata": {},
   "outputs": [
    {
     "data": {
      "text/plain": [
       "Date\n",
       "2017-03-07   -0.006007\n",
       "2017-03-08   -0.007438\n",
       "2017-03-09   -0.009836\n",
       "2017-03-10    0.027909\n",
       "2017-03-13    0.012425\n",
       "Name: Adj Close, dtype: float64"
      ]
     },
     "execution_count": 366,
     "metadata": {},
     "output_type": "execute_result"
    }
   ],
   "source": [
    "r2.head()"
   ]
  },
  {
   "cell_type": "code",
   "execution_count": 368,
   "metadata": {},
   "outputs": [],
   "source": [
    "total_return = position['gld']*r1 + position['gdx']*r2"
   ]
  },
  {
   "cell_type": "code",
   "execution_count": 369,
   "metadata": {},
   "outputs": [],
   "source": [
    "total_return.dropna(inplace= True)"
   ]
  },
  {
   "cell_type": "code",
   "execution_count": 376,
   "metadata": {},
   "outputs": [
    {
     "data": {
      "text/plain": [
       "Date\n",
       "2017-03-07   -0.0\n",
       "2017-03-08   -0.0\n",
       "2017-03-09   -0.0\n",
       "2017-03-10    0.0\n",
       "2017-03-13    0.0\n",
       "dtype: float64"
      ]
     },
     "execution_count": 376,
     "metadata": {},
     "output_type": "execute_result"
    }
   ],
   "source": [
    "total_return.head()"
   ]
  },
  {
   "cell_type": "code",
   "execution_count": 372,
   "metadata": {},
   "outputs": [],
   "source": [
    "sharpe_ratio = np.sqrt(252)*total_return.mean()/total_return.std()"
   ]
  },
  {
   "cell_type": "code",
   "execution_count": 373,
   "metadata": {},
   "outputs": [
    {
     "data": {
      "text/plain": [
       "-0.3048046619425297"
      ]
     },
     "execution_count": 373,
     "metadata": {},
     "output_type": "execute_result"
    }
   ],
   "source": [
    "sharpe_ratio"
   ]
  },
  {
   "cell_type": "code",
   "execution_count": 374,
   "metadata": {},
   "outputs": [
    {
     "data": {
      "text/plain": [
       "-0.07685293815320825"
      ]
     },
     "execution_count": 374,
     "metadata": {},
     "output_type": "execute_result"
    }
   ],
   "source": [
    "252*total_return.mean()"
   ]
  },
  {
   "cell_type": "code",
   "execution_count": 375,
   "metadata": {},
   "outputs": [
    {
     "data": {
      "text/plain": [
       "Date\n",
       "2017-03-07   -0.000000\n",
       "2017-03-08   -0.000000\n",
       "2017-03-09   -0.000000\n",
       "2017-03-10    0.000000\n",
       "2017-03-13    0.000000\n",
       "2017-03-14   -0.000000\n",
       "2017-03-15    0.000000\n",
       "2017-03-16    0.000000\n",
       "2017-03-17    0.000000\n",
       "2017-03-20    0.000000\n",
       "2017-03-21    0.000000\n",
       "2017-03-22    0.000000\n",
       "2017-03-23   -0.000000\n",
       "2017-03-24    0.000000\n",
       "2017-03-27    0.000000\n",
       "2017-03-28   -0.046839\n",
       "2017-03-29    0.006150\n",
       "2017-03-30   -0.023414\n",
       "2017-03-31    0.020027\n",
       "2017-04-03    0.027647\n",
       "2017-04-04    0.018394\n",
       "2017-04-05    0.002417\n",
       "2017-04-06    0.005670\n",
       "2017-04-07   -0.002874\n",
       "2017-04-10    0.011992\n",
       "2017-04-11    0.043672\n",
       "2017-04-12    0.010176\n",
       "2017-04-13   -0.006456\n",
       "2017-04-17   -0.002779\n",
       "2017-04-18   -0.019398\n",
       "                ...   \n",
       "2019-01-24    0.001224\n",
       "2019-01-25    0.039745\n",
       "2019-01-28    0.000000\n",
       "2019-01-29    0.000000\n",
       "2019-01-30    0.000000\n",
       "2019-01-31    0.000000\n",
       "2019-02-01   -0.000000\n",
       "2019-02-04   -0.000000\n",
       "2019-02-05   -0.006285\n",
       "2019-02-06    0.020871\n",
       "2019-02-07    0.000000\n",
       "2019-02-08    0.000000\n",
       "2019-02-11   -0.000000\n",
       "2019-02-12    0.000000\n",
       "2019-02-13   -0.000000\n",
       "2019-02-14    0.000000\n",
       "2019-02-15    0.000000\n",
       "2019-02-19    0.000000\n",
       "2019-02-20   -0.013524\n",
       "2019-02-21    0.018054\n",
       "2019-02-22   -0.003439\n",
       "2019-02-25    0.016812\n",
       "2019-02-26    0.000000\n",
       "2019-02-27   -0.000000\n",
       "2019-02-28   -0.000000\n",
       "2019-03-01   -0.000000\n",
       "2019-03-04    0.000000\n",
       "2019-03-05    0.000000\n",
       "2019-03-06   -0.000000\n",
       "2019-03-07    0.000000\n",
       "Length: 504, dtype: float64"
      ]
     },
     "execution_count": 375,
     "metadata": {},
     "output_type": "execute_result"
    }
   ],
   "source": [
    "total_return"
   ]
  },
  {
   "cell_type": "markdown",
   "metadata": {},
   "source": [
    "### this alporithm doesn't work"
   ]
  },
  {
   "cell_type": "code",
   "execution_count": null,
   "metadata": {},
   "outputs": [],
   "source": []
  }
 ],
 "metadata": {
  "kernelspec": {
   "display_name": "Python 3",
   "language": "python",
   "name": "python3"
  },
  "language_info": {
   "codemirror_mode": {
    "name": "ipython",
    "version": 3
   },
   "file_extension": ".py",
   "mimetype": "text/x-python",
   "name": "python",
   "nbconvert_exporter": "python",
   "pygments_lexer": "ipython3",
   "version": "3.7.1"
  }
 },
 "nbformat": 4,
 "nbformat_minor": 2
}
